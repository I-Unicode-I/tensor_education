{
  "nbformat": 4,
  "nbformat_minor": 0,
  "metadata": {
    "colab": {
      "provenance": []
    },
    "kernelspec": {
      "name": "python3",
      "display_name": "Python 3"
    },
    "language_info": {
      "name": "python"
    },
    "accelerator": "GPU"
  },
  "cells": [
    {
      "cell_type": "code",
      "source": [
        "!pip install wget --quiet"
      ],
      "metadata": {
        "id": "vT-IJMklR2Gn",
        "pycharm": {
          "name": "#%%\n"
        }
      },
      "execution_count": null,
      "outputs": []
    },
    {
      "cell_type": "code",
      "source": [
        "!pip install --upgrade tensorflow==2.12.0 tensorflow_hub==0.13.0 --quiet"
      ],
      "metadata": {
        "id": "yQ1vx1w_qE2j"
      },
      "execution_count": null,
      "outputs": []
    },
    {
      "cell_type": "code",
      "source": [
        "!wget https://raw.githubusercontent.com/mrdbourke/tensorflow-deep-learning/main/extras/helper_functions.py --quiet"
      ],
      "metadata": {
        "id": "8DgNyos0TV3u",
        "pycharm": {
          "name": "#%%\n"
        }
      },
      "execution_count": null,
      "outputs": []
    },
    {
      "cell_type": "code",
      "source": [
        "!wget \"https://storage.googleapis.com/ztm_tf_course/nlp_getting_started.zip\" --quiet"
      ],
      "metadata": {
        "id": "dUTYZE2uRVn0",
        "pycharm": {
          "name": "#%%\n"
        }
      },
      "execution_count": null,
      "outputs": []
    },
    {
      "cell_type": "code",
      "source": [
        "# Import series of helper functions for the notebook\n",
        "from helper_functions import unzip_data\n",
        "\n",
        "unzip_data(\"nlp_getting_started.zip\")"
      ],
      "metadata": {
        "id": "e3OcC7rkTXP5",
        "pycharm": {
          "name": "#%%\n"
        }
      },
      "execution_count": 5,
      "outputs": []
    },
    {
      "cell_type": "code",
      "source": [
        "# Importing TensorFlow and Keras libraries\n",
        "import tensorflow as tf\n",
        "from keras import Sequential\n",
        "from keras.layers import Input, GlobalAveragePooling1D, Dense, LSTM, Conv1D, GlobalMaxPool1D\n",
        "from keras.layers import TextVectorization, Embedding\n",
        "from keras.optimizers import Adam\n",
        "import tensorflow_hub as hub\n",
        "\n",
        "from sklearn.model_selection import train_test_split\n",
        "from sklearn.metrics import accuracy_score, precision_recall_fscore_support\n",
        "import pandas as pd"
      ],
      "metadata": {
        "id": "OdgHy82zQIGt",
        "pycharm": {
          "name": "#%%\n"
        }
      },
      "execution_count": 6,
      "outputs": []
    },
    {
      "cell_type": "code",
      "source": [
        "class PreprocessData:\n",
        "\n",
        "    def __init__(self):\n",
        "        self.train_df = pd.read_csv('train.csv')\n",
        "        self.test_df = pd.read_csv('test.csv')\n",
        "\n",
        "        self.train_df_shuffled = self.train_df.sample(frac=1, random_state=42)\n",
        "\n",
        "        self.train_sentences = None\n",
        "        self.train_labels = None\n",
        "        self.val_sentences = None\n",
        "        self.val_labels = None\n",
        "\n",
        "        self.max_vocab_length = 10000\n",
        "        self.max_output_sequence_length = 15\n",
        "\n",
        "    def get_train_val_data(self):\n",
        "\n",
        "        self.train_sentences, self.val_sentences, self.train_labels, self.val_labels = train_test_split(self.train_df_shuffled['text'].to_numpy(),\n",
        "                                                                                                        self.train_df_shuffled['target'].to_numpy(),\n",
        "                                                                                                        test_size=0.1,\n",
        "                                                                                                        random_state=42)\n",
        "        return self.train_sentences, self.train_labels, self.val_sentences, self.val_labels\n"
      ],
      "metadata": {
        "id": "E8I5z2-OSBTU",
        "pycharm": {
          "name": "#%%\n"
        }
      },
      "execution_count": 7,
      "outputs": []
    },
    {
      "cell_type": "code",
      "execution_count": 8,
      "metadata": {
        "id": "X3cky5-GP37r",
        "pycharm": {
          "name": "#%%\n"
        }
      },
      "outputs": [],
      "source": [
        "    # Initialize dataset for this file\n",
        "    preprocess_data = PreprocessData()\n",
        "\n",
        "    train_sentences, train_labels, val_sentences, val_labels = preprocess_data.get_train_val_data()\n",
        "\n",
        "    max_vocab_length = preprocess_data.max_vocab_length\n",
        "    max_output_length = preprocess_data.max_output_sequence_length\n"
      ]
    },
    {
      "cell_type": "code",
      "source": [
        "def calculate_results(y_true, y_pred):\n",
        "    \"\"\"\n",
        "    Calculates model accuracy, precision, recall and f1-score of a binary classification model;\n",
        "    :param y_true: true labels in the form of a 1D array;\n",
        "    :param y_pred: predicted labels in the form of a 1D array;\n",
        "    :return: a dictionary of accuracy, precision, recall, f1-score.\n",
        "    \"\"\"\n",
        "    # Calculate model accuracy\n",
        "    model_accuracy = accuracy_score(y_true, y_pred) * 100\n",
        "    # Calculate model precision, recall and f1-score using \"weighted\" average\n",
        "    model_precision, model_recall, model_f1, _ = precision_recall_fscore_support(y_true, y_pred, average=\"weighted\")\n",
        "    model_results = {\"accuracy\": model_accuracy,\n",
        "                     \"precision\": model_precision,\n",
        "                     \"recall\": model_recall,\n",
        "                     \"f1-score\": model_f1}\n",
        "\n",
        "    return model_results"
      ],
      "metadata": {
        "id": "vQ4QPOE8VR4T",
        "pycharm": {
          "name": "#%%\n"
        }
      },
      "execution_count": 9,
      "outputs": []
    },
    {
      "cell_type": "markdown",
      "source": [
        "## Exercise - 3"
      ],
      "metadata": {
        "id": "1kTex4mJ0jqS"
      }
    },
    {
      "cell_type": "code",
      "source": [
        "# Creating tensorflow hub model encoding layer\n",
        "sentence_encoder_layer = hub.KerasLayer(\"https://tfhub.dev/google/universal-sentence-encoder/4\",\n",
        "                                        input_shape=[],\n",
        "                                        dtype=tf.string,\n",
        "                                        trainable=True,\n",
        "                                        name=\"USE\")\n",
        "\n",
        "# Building Sequential of model\n",
        "ex_model_use = Sequential([\n",
        "    sentence_encoder_layer,\n",
        "    Dense(64, activation=\"relu\"),\n",
        "    Dense(1, activation=\"sigmoid\")\n",
        "], name=\"model_use\")\n",
        "\n",
        "# Compile the model\n",
        "ex_model_use.compile(loss=\"binary_crossentropy\",\n",
        "                      optimizer=Adam(),\n",
        "                      metrics=[\"accuracy\"])"
      ],
      "metadata": {
        "id": "d6Q9VcQzVciR",
        "pycharm": {
          "name": "#%%\n"
        }
      },
      "execution_count": 10,
      "outputs": []
    },
    {
      "cell_type": "code",
      "source": [
        "# Training the model\n",
        "ex_model_use_history = ex_model_use.fit(train_sentences,\n",
        "                                        train_labels,\n",
        "                                        epochs=5,\n",
        "                                        validation_data=(val_sentences, val_labels))"
      ],
      "metadata": {
        "colab": {
          "base_uri": "https://localhost:8080/"
        },
        "id": "SRVz1RT9VW_C",
        "outputId": "4b290a80-67bd-4847-ac25-42efcbb009de",
        "pycharm": {
          "name": "#%%\n"
        }
      },
      "execution_count": 11,
      "outputs": [
        {
          "output_type": "stream",
          "name": "stdout",
          "text": [
            "Epoch 1/5\n",
            "215/215 [==============================] - 52s 154ms/step - loss: 0.4493 - accuracy: 0.7971 - val_loss: 0.4419 - val_accuracy: 0.8031\n",
            "Epoch 2/5\n",
            "215/215 [==============================] - 33s 152ms/step - loss: 0.2340 - accuracy: 0.9107 - val_loss: 0.4555 - val_accuracy: 0.8136\n",
            "Epoch 3/5\n",
            "215/215 [==============================] - 33s 154ms/step - loss: 0.0783 - accuracy: 0.9747 - val_loss: 0.5710 - val_accuracy: 0.8215\n",
            "Epoch 4/5\n",
            "215/215 [==============================] - 33s 152ms/step - loss: 0.0403 - accuracy: 0.9867 - val_loss: 0.6997 - val_accuracy: 0.8058\n",
            "Epoch 5/5\n",
            "215/215 [==============================] - 33s 152ms/step - loss: 0.0294 - accuracy: 0.9883 - val_loss: 0.6800 - val_accuracy: 0.7953\n"
          ]
        }
      ]
    },
    {
      "cell_type": "code",
      "source": [
        "print(\"|=== Model USE Results ===|\")\n",
        "# Getting prediction probabilities\n",
        "ex_model_use_pred_probs = ex_model_use.predict(val_sentences)\n",
        "print(ex_model_use_pred_probs[:10])\n",
        "\n",
        "# Convert probabilities to labels (numbers)\n",
        "ex_model_use_preds = tf.squeeze(tf.round(ex_model_use_pred_probs))\n",
        "print(ex_model_use_preds[:20])\n",
        "\n",
        "# Calculate model results (accuracy, precision, recall, f1-score)\n",
        "ex_model_use_results = calculate_results(val_labels, ex_model_use_preds)\n",
        "print(ex_model_use_results)"
      ],
      "metadata": {
        "colab": {
          "base_uri": "https://localhost:8080/"
        },
        "id": "8dM9qTkd_WIn",
        "outputId": "ffd750d5-347d-4f21-eaaa-0b3698865e99"
      },
      "execution_count": 12,
      "outputs": [
        {
          "output_type": "stream",
          "name": "stdout",
          "text": [
            "|=== Model USE Results ===|\n",
            "24/24 [==============================] - 1s 10ms/step\n",
            "[[0.22073375]\n",
            " [0.98080504]\n",
            " [0.9995185 ]\n",
            " [0.02332857]\n",
            " [0.9643864 ]\n",
            " [0.99902713]\n",
            " [0.9993274 ]\n",
            " [0.9995679 ]\n",
            " [0.99925286]\n",
            " [0.01513849]]\n",
            "tf.Tensor([0. 1. 1. 0. 1. 1. 1. 1. 1. 0. 1. 1. 0. 1. 0. 0. 1. 0. 0. 0.], shape=(20,), dtype=float32)\n",
            "{'accuracy': 79.52755905511812, 'precision': 0.7953774831544114, 'recall': 0.7952755905511811, 'f1-score': 0.7953210416227474}\n"
          ]
        }
      ]
    }
  ]
}