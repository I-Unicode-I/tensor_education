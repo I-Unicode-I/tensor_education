{
  "nbformat": 4,
  "nbformat_minor": 0,
  "metadata": {
    "colab": {
      "provenance": [],
      "gpuType": "T4"
    },
    "kernelspec": {
      "name": "python3",
      "display_name": "Python 3"
    },
    "language_info": {
      "name": "python"
    },
    "accelerator": "GPU",
    "gpuClass": "standard"
  },
  "cells": [
    {
      "cell_type": "code",
      "execution_count": 1,
      "metadata": {
        "id": "TCEu2koMzEHg",
        "colab": {
          "base_uri": "https://localhost:8080/"
        },
        "outputId": "503ba6fb-cc3f-4750-8ac9-ddb98d225d71"
      },
      "outputs": [
        {
          "output_type": "stream",
          "name": "stdout",
          "text": [
            "  Preparing metadata (setup.py) ... \u001b[?25l\u001b[?25hdone\n",
            "  Building wheel for wget (setup.py) ... \u001b[?25l\u001b[?25hdone\n"
          ]
        }
      ],
      "source": [
        "!pip install wget --quiet"
      ]
    },
    {
      "cell_type": "code",
      "source": [
        "!pip install --upgrade tensorflow==2.12.0 tensorflow_hub==0.13.0 --quiet"
      ],
      "metadata": {
        "id": "OJhJCbLkq0KH"
      },
      "execution_count": 2,
      "outputs": []
    },
    {
      "cell_type": "code",
      "source": [
        "!wget https://raw.githubusercontent.com/mrdbourke/tensorflow-deep-learning/main/extras/helper_functions.py --quiet"
      ],
      "metadata": {
        "id": "X_0gmKpHzOJe"
      },
      "execution_count": 3,
      "outputs": []
    },
    {
      "cell_type": "code",
      "source": [
        "!wget \"https://storage.googleapis.com/ztm_tf_course/nlp_getting_started.zip\" --quiet"
      ],
      "metadata": {
        "id": "eUR_Khz4zSXL"
      },
      "execution_count": 4,
      "outputs": []
    },
    {
      "cell_type": "code",
      "source": [
        "# Import series of helper functions for the notebook\n",
        "from helper_functions import unzip_data\n",
        "\n",
        "unzip_data(\"nlp_getting_started.zip\")"
      ],
      "metadata": {
        "id": "SwD1XHpuzT2p"
      },
      "execution_count": 5,
      "outputs": []
    },
    {
      "cell_type": "code",
      "source": [
        "# Importing TensorFlow and Keras libraries\n",
        "import tensorflow as tf\n",
        "from keras import Sequential\n",
        "from keras.layers import Input, GlobalAveragePooling1D, Dense, LSTM, Conv1D, GlobalMaxPool1D\n",
        "from keras.layers import TextVectorization, Embedding\n",
        "from keras.optimizers import Adam\n",
        "import tensorflow_hub as hub\n",
        "\n",
        "from sklearn.feature_extraction.text import TfidfVectorizer\n",
        "from sklearn.naive_bayes import MultinomialNB\n",
        "from sklearn.pipeline import Pipeline\n",
        "from sklearn.model_selection import train_test_split\n",
        "from sklearn.metrics import accuracy_score, precision_recall_fscore_support\n",
        "import matplotlib.pyplot as plt\n",
        "import pandas as pd\n",
        "import numpy as np\n",
        "\n",
        "from helper_functions import make_confusion_matrix"
      ],
      "metadata": {
        "id": "jwc3xCRtzUyb"
      },
      "execution_count": 6,
      "outputs": []
    },
    {
      "cell_type": "code",
      "source": [
        "class PreprocessData:\n",
        "\n",
        "    def __init__(self):\n",
        "        self.train_df = pd.read_csv('train.csv')\n",
        "        self.test_df = pd.read_csv('test.csv')\n",
        "\n",
        "        self.train_df_shuffled = self.train_df.sample(frac=1, random_state=42)\n",
        "\n",
        "        self.train_sentences = None\n",
        "        self.train_labels = None\n",
        "        self.val_sentences = None\n",
        "        self.val_labels = None\n",
        "\n",
        "        self.max_vocab_length = 10000\n",
        "        self.max_output_sequence_length = 15\n",
        "\n",
        "    def get_train_val_data(self):\n",
        "        self.train_sentences, self.val_sentences,\\\n",
        "            self.train_labels, self.val_labels = train_test_split(self.train_df_shuffled['text'].to_numpy(),\n",
        "                                                                  self.train_df_shuffled['target'].to_numpy(),\n",
        "                                                                  test_size=0.1,\n",
        "                                                                  random_state=42)\n",
        "        return self.train_sentences, self.train_labels, self.val_sentences, self.val_labels\n"
      ],
      "metadata": {
        "id": "Utr6IRwZzXm4"
      },
      "execution_count": 7,
      "outputs": []
    },
    {
      "cell_type": "code",
      "source": [
        "def calculate_results(y_true, y_pred):\n",
        "    \"\"\"\n",
        "    Calculates model accuracy, precision, recall and f1-score of a binary classification model;\n",
        "    :param y_true: true labels in the form of a 1D array;\n",
        "    :param y_pred: predicted labels in the form of a 1D array;\n",
        "    :return: a dictionary of accuracy, precision, recall, f1-score.\n",
        "    \"\"\"\n",
        "    # Calculate model accuracy\n",
        "    model_accuracy = accuracy_score(y_true, y_pred) * 100\n",
        "    # Calculate model precision, recall and f1-score using \"weighted\" average\n",
        "    model_precision, model_recall, model_f1, _ = precision_recall_fscore_support(y_true, y_pred, average=\"weighted\")\n",
        "    model_results = {\"accuracy\": model_accuracy,\n",
        "                     \"precision\": model_precision,\n",
        "                     \"recall\": model_recall,\n",
        "                     \"f1-score\": model_f1}\n",
        "\n",
        "    return model_results"
      ],
      "metadata": {
        "id": "31cF-eNCLCjh"
      },
      "execution_count": 8,
      "outputs": []
    },
    {
      "cell_type": "code",
      "source": [
        "# Initialize dataset for this file\n",
        "preprocess_data = PreprocessData()\n",
        "\n",
        "# Read train & validation sets of dataset data\n",
        "train_splt_sentences, train_splt_labels, val_splt_sentences, val_splt_labels = preprocess_data.get_train_val_data()\n",
        "\n",
        "# Define variable for embeddings\n",
        "max_vocab_length = preprocess_data.max_vocab_length\n",
        "max_output_length = preprocess_data.max_output_sequence_length"
      ],
      "metadata": {
        "id": "8O9P9TaizXkj"
      },
      "execution_count": 9,
      "outputs": []
    },
    {
      "cell_type": "markdown",
      "source": [
        "## Excerise - 5"
      ],
      "metadata": {
        "id": "2iCJWmV4hfrS"
      }
    },
    {
      "cell_type": "code",
      "source": [
        "# Create tokenization and modelling pipeline\n",
        "ex_model_0 = Pipeline([\n",
        "    ('tfidf', TfidfVectorizer()),  # convert words to numbers using tfidf\n",
        "    ('clf', MultinomialNB())  # model for the text\n",
        "])"
      ],
      "metadata": {
        "id": "DhLF3Z2-chXd"
      },
      "execution_count": 10,
      "outputs": []
    },
    {
      "cell_type": "code",
      "source": [
        "# Fit the pipeline to the training data\n",
        "ex_model_0.fit(train_splt_sentences, train_splt_labels)"
      ],
      "metadata": {
        "colab": {
          "base_uri": "https://localhost:8080/",
          "height": 127
        },
        "id": "oC6xStPnxMWO",
        "outputId": "4dac9f45-382d-411c-c440-a17eb9c30b44"
      },
      "execution_count": 11,
      "outputs": [
        {
          "output_type": "execute_result",
          "data": {
            "text/plain": [
              "Pipeline(steps=[('tfidf', TfidfVectorizer()), ('clf', MultinomialNB())])"
            ],
            "text/html": [
              "<style>#sk-container-id-1 {color: black;background-color: white;}#sk-container-id-1 pre{padding: 0;}#sk-container-id-1 div.sk-toggleable {background-color: white;}#sk-container-id-1 label.sk-toggleable__label {cursor: pointer;display: block;width: 100%;margin-bottom: 0;padding: 0.3em;box-sizing: border-box;text-align: center;}#sk-container-id-1 label.sk-toggleable__label-arrow:before {content: \"▸\";float: left;margin-right: 0.25em;color: #696969;}#sk-container-id-1 label.sk-toggleable__label-arrow:hover:before {color: black;}#sk-container-id-1 div.sk-estimator:hover label.sk-toggleable__label-arrow:before {color: black;}#sk-container-id-1 div.sk-toggleable__content {max-height: 0;max-width: 0;overflow: hidden;text-align: left;background-color: #f0f8ff;}#sk-container-id-1 div.sk-toggleable__content pre {margin: 0.2em;color: black;border-radius: 0.25em;background-color: #f0f8ff;}#sk-container-id-1 input.sk-toggleable__control:checked~div.sk-toggleable__content {max-height: 200px;max-width: 100%;overflow: auto;}#sk-container-id-1 input.sk-toggleable__control:checked~label.sk-toggleable__label-arrow:before {content: \"▾\";}#sk-container-id-1 div.sk-estimator input.sk-toggleable__control:checked~label.sk-toggleable__label {background-color: #d4ebff;}#sk-container-id-1 div.sk-label input.sk-toggleable__control:checked~label.sk-toggleable__label {background-color: #d4ebff;}#sk-container-id-1 input.sk-hidden--visually {border: 0;clip: rect(1px 1px 1px 1px);clip: rect(1px, 1px, 1px, 1px);height: 1px;margin: -1px;overflow: hidden;padding: 0;position: absolute;width: 1px;}#sk-container-id-1 div.sk-estimator {font-family: monospace;background-color: #f0f8ff;border: 1px dotted black;border-radius: 0.25em;box-sizing: border-box;margin-bottom: 0.5em;}#sk-container-id-1 div.sk-estimator:hover {background-color: #d4ebff;}#sk-container-id-1 div.sk-parallel-item::after {content: \"\";width: 100%;border-bottom: 1px solid gray;flex-grow: 1;}#sk-container-id-1 div.sk-label:hover label.sk-toggleable__label {background-color: #d4ebff;}#sk-container-id-1 div.sk-serial::before {content: \"\";position: absolute;border-left: 1px solid gray;box-sizing: border-box;top: 0;bottom: 0;left: 50%;z-index: 0;}#sk-container-id-1 div.sk-serial {display: flex;flex-direction: column;align-items: center;background-color: white;padding-right: 0.2em;padding-left: 0.2em;position: relative;}#sk-container-id-1 div.sk-item {position: relative;z-index: 1;}#sk-container-id-1 div.sk-parallel {display: flex;align-items: stretch;justify-content: center;background-color: white;position: relative;}#sk-container-id-1 div.sk-item::before, #sk-container-id-1 div.sk-parallel-item::before {content: \"\";position: absolute;border-left: 1px solid gray;box-sizing: border-box;top: 0;bottom: 0;left: 50%;z-index: -1;}#sk-container-id-1 div.sk-parallel-item {display: flex;flex-direction: column;z-index: 1;position: relative;background-color: white;}#sk-container-id-1 div.sk-parallel-item:first-child::after {align-self: flex-end;width: 50%;}#sk-container-id-1 div.sk-parallel-item:last-child::after {align-self: flex-start;width: 50%;}#sk-container-id-1 div.sk-parallel-item:only-child::after {width: 0;}#sk-container-id-1 div.sk-dashed-wrapped {border: 1px dashed gray;margin: 0 0.4em 0.5em 0.4em;box-sizing: border-box;padding-bottom: 0.4em;background-color: white;}#sk-container-id-1 div.sk-label label {font-family: monospace;font-weight: bold;display: inline-block;line-height: 1.2em;}#sk-container-id-1 div.sk-label-container {text-align: center;}#sk-container-id-1 div.sk-container {/* jupyter's `normalize.less` sets `[hidden] { display: none; }` but bootstrap.min.css set `[hidden] { display: none !important; }` so we also need the `!important` here to be able to override the default hidden behavior on the sphinx rendered scikit-learn.org. See: https://github.com/scikit-learn/scikit-learn/issues/21755 */display: inline-block !important;position: relative;}#sk-container-id-1 div.sk-text-repr-fallback {display: none;}</style><div id=\"sk-container-id-1\" class=\"sk-top-container\"><div class=\"sk-text-repr-fallback\"><pre>Pipeline(steps=[(&#x27;tfidf&#x27;, TfidfVectorizer()), (&#x27;clf&#x27;, MultinomialNB())])</pre><b>In a Jupyter environment, please rerun this cell to show the HTML representation or trust the notebook. <br />On GitHub, the HTML representation is unable to render, please try loading this page with nbviewer.org.</b></div><div class=\"sk-container\" hidden><div class=\"sk-item sk-dashed-wrapped\"><div class=\"sk-label-container\"><div class=\"sk-label sk-toggleable\"><input class=\"sk-toggleable__control sk-hidden--visually\" id=\"sk-estimator-id-1\" type=\"checkbox\" ><label for=\"sk-estimator-id-1\" class=\"sk-toggleable__label sk-toggleable__label-arrow\">Pipeline</label><div class=\"sk-toggleable__content\"><pre>Pipeline(steps=[(&#x27;tfidf&#x27;, TfidfVectorizer()), (&#x27;clf&#x27;, MultinomialNB())])</pre></div></div></div><div class=\"sk-serial\"><div class=\"sk-item\"><div class=\"sk-estimator sk-toggleable\"><input class=\"sk-toggleable__control sk-hidden--visually\" id=\"sk-estimator-id-2\" type=\"checkbox\" ><label for=\"sk-estimator-id-2\" class=\"sk-toggleable__label sk-toggleable__label-arrow\">TfidfVectorizer</label><div class=\"sk-toggleable__content\"><pre>TfidfVectorizer()</pre></div></div></div><div class=\"sk-item\"><div class=\"sk-estimator sk-toggleable\"><input class=\"sk-toggleable__control sk-hidden--visually\" id=\"sk-estimator-id-3\" type=\"checkbox\" ><label for=\"sk-estimator-id-3\" class=\"sk-toggleable__label sk-toggleable__label-arrow\">MultinomialNB</label><div class=\"sk-toggleable__content\"><pre>MultinomialNB()</pre></div></div></div></div></div></div></div>"
            ]
          },
          "metadata": {},
          "execution_count": 11
        }
      ]
    },
    {
      "cell_type": "code",
      "source": [
        "# Make predictions\n",
        "ex_baseline_preds = ex_model_0.predict(val_splt_sentences)"
      ],
      "metadata": {
        "id": "ZQSGGf7ZfoMm"
      },
      "execution_count": 12,
      "outputs": []
    },
    {
      "cell_type": "code",
      "source": [
        "# Get baseline results\n",
        "ex_baseline_results = calculate_results(y_true=val_splt_labels,\n",
        "                                        y_pred=ex_baseline_preds)"
      ],
      "metadata": {
        "id": "_46WPOmI0HhG"
      },
      "execution_count": 13,
      "outputs": []
    },
    {
      "cell_type": "code",
      "source": [
        "# === Building Model 2 ===\n",
        "text_vectorizer = TextVectorization(max_tokens=max_vocab_length,\n",
        "                                    output_mode='int',\n",
        "                                    output_sequence_length=max_output_length)\n",
        "\n",
        "text_vectorizer.adapt(train_splt_sentences)"
      ],
      "metadata": {
        "id": "0N13kBdLxfxN"
      },
      "execution_count": 14,
      "outputs": []
    },
    {
      "cell_type": "code",
      "source": [
        "tf.random.set_seed(17)\n",
        "\n",
        "# Building Embedding layer\n",
        "ex_embedding_2 = Embedding(input_dim=max_vocab_length,\n",
        "                            output_dim=128,\n",
        "                            embeddings_initializer=\"uniform\",\n",
        "                            input_length=max_output_length,\n",
        "                            name=\"ex_embedding_2\")"
      ],
      "metadata": {
        "id": "C-J1gE5bfoKO"
      },
      "execution_count": 15,
      "outputs": []
    },
    {
      "cell_type": "code",
      "source": [
        "# Building Sequential of model\n",
        "ex_model_2 = Sequential([\n",
        "    Input(shape=(1,), dtype=\"string\"),\n",
        "    text_vectorizer,\n",
        "    ex_embedding_2,\n",
        "    LSTM(64),\n",
        "    Dense(1, activation=\"sigmoid\")\n",
        "])"
      ],
      "metadata": {
        "id": "l7Z4Ec5YfoHs"
      },
      "execution_count": 16,
      "outputs": []
    },
    {
      "cell_type": "code",
      "source": [
        "# Compile the model\n",
        "ex_model_2.compile(loss=\"binary_crossentropy\",\n",
        "                    optimizer=Adam(),\n",
        "                    metrics=[\"accuracy\"])"
      ],
      "metadata": {
        "id": "CScqvGgYfoFO"
      },
      "execution_count": 17,
      "outputs": []
    },
    {
      "cell_type": "code",
      "source": [
        "# Training the model\n",
        "ex_model_2_history = ex_model_2.fit(train_splt_sentences,\n",
        "                                    train_splt_labels,\n",
        "                                    epochs=5,\n",
        "                                    validation_data=(val_splt_sentences, val_splt_labels))"
      ],
      "metadata": {
        "id": "rMUCRQz1foCo",
        "colab": {
          "base_uri": "https://localhost:8080/"
        },
        "outputId": "b3a09274-fecd-4d57-9c6f-ac50d353407f"
      },
      "execution_count": 18,
      "outputs": [
        {
          "output_type": "stream",
          "name": "stdout",
          "text": [
            "Epoch 1/5\n",
            "215/215 [==============================] - 13s 17ms/step - loss: 0.5177 - accuracy: 0.7444 - val_loss: 0.4609 - val_accuracy: 0.7874\n",
            "Epoch 2/5\n",
            "215/215 [==============================] - 2s 10ms/step - loss: 0.3191 - accuracy: 0.8699 - val_loss: 0.4871 - val_accuracy: 0.7848\n",
            "Epoch 3/5\n",
            "215/215 [==============================] - 2s 11ms/step - loss: 0.2234 - accuracy: 0.9158 - val_loss: 0.6253 - val_accuracy: 0.7664\n",
            "Epoch 4/5\n",
            "215/215 [==============================] - 3s 12ms/step - loss: 0.1517 - accuracy: 0.9442 - val_loss: 0.7294 - val_accuracy: 0.7690\n",
            "Epoch 5/5\n",
            "215/215 [==============================] - 2s 11ms/step - loss: 0.1045 - accuracy: 0.9618 - val_loss: 0.8601 - val_accuracy: 0.7546\n"
          ]
        }
      ]
    },
    {
      "cell_type": "code",
      "source": [
        "# Getting prediction probabilities\n",
        "ex_model_2_pred_probs = ex_model_2.predict(val_splt_sentences)\n",
        "\n",
        "# Convert probabilities to labels (numbers)\n",
        "ex_model_2_preds = tf.squeeze(tf.round(ex_model_2_pred_probs))\n",
        "\n",
        "# Calculate results of predictions (accuracy, precision, recall, f1-score)\n",
        "ex_model_2_results = calculate_results(val_splt_labels, ex_model_2_preds)"
      ],
      "metadata": {
        "id": "4vL8-9rXfn_r",
        "colab": {
          "base_uri": "https://localhost:8080/"
        },
        "outputId": "13a6ab99-aa4d-4f40-8be4-b8818c0626e2"
      },
      "execution_count": 19,
      "outputs": [
        {
          "output_type": "stream",
          "name": "stdout",
          "text": [
            "24/24 [==============================] - 1s 3ms/step\n"
          ]
        }
      ]
    },
    {
      "cell_type": "code",
      "source": [
        "#  === Building Model 6 (USE) ===\n",
        "tf.random.set_seed(17)\n",
        "\n",
        "sentence_encoder_layer = hub.KerasLayer(\"https://tfhub.dev/google/universal-sentence-encoder/4\",\n",
        "                                        input_shape=[],  # shape of input coming to our model\n",
        "                                        dtype=tf.string,  # data type of input coming to the USE layer\n",
        "                                        trainable=False,  # keep the pretrained weight\n",
        "                                                            # (we'll create a feature extractor)\n",
        "                                        name=\"USE\")"
      ],
      "metadata": {
        "id": "lwfU3L1Jfn8w"
      },
      "execution_count": 20,
      "outputs": []
    },
    {
      "cell_type": "code",
      "source": [
        "# Create model using the Sequential API\n",
        "ex_model_6 = Sequential([\n",
        "    sentence_encoder_layer,\n",
        "    Dense(64, activation=\"relu\"),\n",
        "    Dense(1, activation=\"sigmoid\")\n",
        "], name=\"model_6_USE\")"
      ],
      "metadata": {
        "id": "yW3W-avCfn51"
      },
      "execution_count": 21,
      "outputs": []
    },
    {
      "cell_type": "code",
      "source": [
        "# Compile model\n",
        "ex_model_6.compile(loss=\"binary_crossentropy\",\n",
        "                    optimizer=Adam(),\n",
        "                    metrics=[\"accuracy\"])\n",
        "# model_6.summary()"
      ],
      "metadata": {
        "id": "PT_2I2f1fn3A"
      },
      "execution_count": 22,
      "outputs": []
    },
    {
      "cell_type": "code",
      "source": [
        "# Train a classifier on top of pretrained embeddings\n",
        "ex_model_6_history = ex_model_6.fit(train_splt_sentences,\n",
        "                                    train_splt_labels,\n",
        "                                    epochs=5,\n",
        "                                    validation_data=(val_splt_sentences, val_splt_labels),\n",
        "                                    callbacks=[])"
      ],
      "metadata": {
        "id": "iOjcl6jVfn0T",
        "colab": {
          "base_uri": "https://localhost:8080/"
        },
        "outputId": "ab59fea5-6fd6-4d82-9f23-53b0ff6a6f9a"
      },
      "execution_count": 23,
      "outputs": [
        {
          "output_type": "stream",
          "name": "stdout",
          "text": [
            "Epoch 1/5\n",
            "215/215 [==============================] - 7s 14ms/step - loss: 0.5075 - accuracy: 0.7796 - val_loss: 0.4470 - val_accuracy: 0.8097\n",
            "Epoch 2/5\n",
            "215/215 [==============================] - 3s 12ms/step - loss: 0.4151 - accuracy: 0.8162 - val_loss: 0.4375 - val_accuracy: 0.8071\n",
            "Epoch 3/5\n",
            "215/215 [==============================] - 4s 17ms/step - loss: 0.4014 - accuracy: 0.8190 - val_loss: 0.4328 - val_accuracy: 0.8110\n",
            "Epoch 4/5\n",
            "215/215 [==============================] - 3s 12ms/step - loss: 0.3927 - accuracy: 0.8273 - val_loss: 0.4271 - val_accuracy: 0.8150\n",
            "Epoch 5/5\n",
            "215/215 [==============================] - 3s 12ms/step - loss: 0.3864 - accuracy: 0.8318 - val_loss: 0.4270 - val_accuracy: 0.8136\n"
          ]
        }
      ]
    },
    {
      "cell_type": "code",
      "source": [
        "# Make predictions with USE TF Hub model\n",
        "ex_model_6_pred_probs = ex_model_6.predict(val_splt_sentences)\n",
        "\n",
        "# Convert prediction probabilities to labels\n",
        "ex_model_6_preds = tf.squeeze(tf.round(ex_model_6_pred_probs))\n",
        "\n",
        "# Calculate model 6 performance metrics\n",
        "ex_model_6_results = calculate_results(val_splt_labels, ex_model_6_preds)"
      ],
      "metadata": {
        "id": "jouD4HRWfnxq",
        "colab": {
          "base_uri": "https://localhost:8080/"
        },
        "outputId": "4957edf7-6620-48b7-b10a-35c9ef271449"
      },
      "execution_count": 24,
      "outputs": [
        {
          "output_type": "stream",
          "name": "stdout",
          "text": [
            "24/24 [==============================] - 1s 10ms/step\n"
          ]
        }
      ]
    },
    {
      "cell_type": "code",
      "source": [
        "def majority_vote(ensemble_preds):\n",
        "    \"\"\"\n",
        "    Takes predictions from all models and makes majority voted predictions\n",
        "    for each sample;\n",
        "    :param ensemble_preds: predictions from all models;\n",
        "    :return: tensor with all majority voted preds.\n",
        "    \"\"\"\n",
        "    y_preds = np.array([])\n",
        "    for pred in ensemble_preds:\n",
        "        y_pred, _, count = tf.unique_with_counts(pred)\n",
        "        y_preds = np.concatenate([y_preds, [y_pred[tf.argmax(count).numpy()]]])\n",
        "    return y_preds"
      ],
      "metadata": {
        "id": "vL0RdpkCLgIP"
      },
      "execution_count": 25,
      "outputs": []
    },
    {
      "cell_type": "code",
      "source": [
        "# === Build ensemble model from 3 models (baseline, LSTM, USE) ===\n",
        "# Get majority vote (mode) pred probs for 3 models\n",
        "combined_preds = tf.concat([[ex_baseline_preds], [ex_model_2_preds], [ex_model_6_preds]], axis=0)\n",
        "majority_voted_preds = majority_vote(zip(ex_baseline_preds, ex_model_2_preds, ex_model_6_preds))\n",
        "print(majority_voted_preds)"
      ],
      "metadata": {
        "id": "Csz_ov8hfnvS",
        "colab": {
          "base_uri": "https://localhost:8080/"
        },
        "outputId": "0d459908-33be-4002-fb93-1ecb33741c30"
      },
      "execution_count": 26,
      "outputs": [
        {
          "output_type": "stream",
          "name": "stdout",
          "text": [
            "[0. 1. 1. 0. 0. 1. 1. 1. 1. 0. 0. 1. 0. 1. 0. 0. 0. 0. 0. 1. 1. 0. 0. 0.\n",
            " 1. 1. 0. 0. 0. 0. 1. 0. 0. 0. 0. 0. 1. 0. 0. 1. 0. 0. 0. 0. 0. 1. 0. 1.\n",
            " 0. 1. 0. 1. 0. 0. 0. 0. 0. 1. 0. 0. 0. 1. 1. 0. 1. 1. 1. 0. 0. 0. 0. 0.\n",
            " 1. 0. 0. 1. 0. 0. 0. 1. 1. 0. 1. 0. 0. 0. 0. 0. 1. 1. 1. 0. 0. 0. 1. 1.\n",
            " 1. 1. 1. 1. 1. 0. 0. 1. 1. 0. 1. 1. 0. 1. 1. 0. 0. 0. 0. 0. 0. 1. 1. 0.\n",
            " 1. 0. 0. 1. 0. 0. 0. 0. 0. 1. 0. 1. 1. 1. 1. 0. 1. 0. 0. 0. 1. 0. 1. 0.\n",
            " 0. 0. 0. 0. 0. 1. 0. 0. 0. 0. 0. 1. 1. 0. 1. 0. 1. 0. 0. 1. 0. 0. 1. 0.\n",
            " 1. 0. 1. 0. 1. 0. 1. 0. 0. 0. 1. 1. 0. 1. 1. 1. 1. 0. 0. 1. 0. 0. 0. 1.\n",
            " 0. 0. 0. 0. 0. 0. 1. 0. 0. 1. 1. 0. 0. 1. 0. 1. 1. 1. 0. 1. 0. 0. 0. 0.\n",
            " 1. 1. 1. 0. 1. 0. 0. 0. 1. 0. 0. 1. 1. 1. 0. 0. 1. 0. 1. 0. 0. 0. 0. 0.\n",
            " 1. 0. 1. 1. 0. 0. 1. 0. 0. 0. 0. 1. 0. 0. 1. 0. 1. 1. 0. 0. 0. 0. 0. 1.\n",
            " 1. 0. 1. 0. 0. 0. 0. 0. 1. 0. 0. 1. 0. 0. 1. 0. 0. 0. 1. 0. 1. 0. 1. 0.\n",
            " 1. 0. 1. 1. 0. 0. 0. 1. 0. 1. 0. 0. 0. 0. 0. 1. 0. 0. 0. 0. 0. 0. 0. 1.\n",
            " 0. 0. 1. 0. 1. 0. 0. 0. 0. 0. 1. 0. 1. 0. 0. 1. 0. 1. 0. 0. 1. 0. 0. 1.\n",
            " 0. 0. 1. 1. 0. 0. 1. 1. 1. 0. 0. 0. 0. 0. 0. 0. 0. 0. 0. 0. 1. 1. 1. 0.\n",
            " 0. 0. 0. 1. 0. 0. 0. 0. 0. 0. 0. 0. 0. 0. 0. 0. 0. 0. 0. 1. 1. 1. 0. 0.\n",
            " 1. 1. 1. 0. 1. 0. 0. 0. 0. 1. 0. 1. 0. 0. 0. 0. 1. 0. 1. 1. 0. 1. 0. 0.\n",
            " 0. 0. 1. 0. 0. 1. 1. 1. 0. 1. 0. 0. 1. 1. 1. 1. 0. 1. 0. 1. 0. 1. 0. 0.\n",
            " 0. 0. 0. 0. 0. 0. 1. 1. 0. 1. 0. 0. 0. 1. 0. 0. 0. 0. 0. 1. 1. 1. 1. 1.\n",
            " 0. 0. 1. 1. 1. 0. 0. 0. 1. 1. 0. 0. 1. 0. 0. 1. 0. 0. 1. 0. 1. 1. 0. 0.\n",
            " 0. 0. 0. 1. 0. 1. 0. 0. 0. 0. 0. 1. 0. 0. 0. 0. 0. 1. 0. 1. 1. 0. 0. 1.\n",
            " 0. 0. 0. 1. 0. 0. 0. 0. 0. 0. 1. 0. 1. 1. 1. 1. 0. 0. 1. 1. 0. 0. 0. 0.\n",
            " 0. 1. 1. 1. 0. 0. 1. 0. 0. 0. 0. 0. 0. 0. 0. 0. 0. 0. 0. 1. 1. 0. 1. 1.\n",
            " 0. 1. 0. 1. 0. 0. 0. 0. 0. 0. 1. 1. 1. 0. 1. 1. 0. 0. 1. 1. 1. 0. 0. 1.\n",
            " 0. 0. 1. 0. 0. 0. 1. 0. 0. 1. 0. 0. 0. 0. 0. 0. 0. 0. 0. 0. 0. 1. 1. 0.\n",
            " 0. 0. 1. 1. 1. 0. 1. 0. 0. 1. 0. 1. 0. 0. 1. 0. 0. 0. 0. 1. 1. 0. 1. 0.\n",
            " 1. 0. 0. 0. 1. 0. 0. 1. 1. 1. 1. 0. 0. 0. 1. 0. 1. 0. 1. 0. 0. 0. 0. 0.\n",
            " 0. 1. 1. 0. 0. 0. 0. 0. 0. 1. 0. 0. 0. 0. 1. 0. 0. 0. 0. 0. 1. 1. 0. 0.\n",
            " 0. 0. 1. 0. 1. 0. 0. 0. 0. 0. 0. 0. 0. 1. 0. 0. 0. 0. 1. 1. 1. 0. 1. 1.\n",
            " 1. 1. 1. 0. 0. 0. 1. 0. 0. 0. 0. 0. 0. 0. 0. 0. 1. 0. 0. 0. 0. 0. 1. 0.\n",
            " 0. 0. 0. 1. 0. 0. 0. 0. 1. 0. 0. 1. 1. 1. 1. 1. 0. 0. 0. 1. 1. 1. 0. 1.\n",
            " 0. 0. 0. 0. 0. 0. 0. 0. 1. 0. 1. 1. 0. 0. 0. 1. 0. 0.]\n"
          ]
        }
      ]
    },
    {
      "cell_type": "code",
      "source": [
        "# Calculate results from majority vote (mode) of the prediction probabilities\n",
        "ensemble_results = calculate_results(val_splt_labels, majority_voted_preds)"
      ],
      "metadata": {
        "id": "VzXrn3g9fnsy"
      },
      "execution_count": 27,
      "outputs": []
    },
    {
      "cell_type": "code",
      "source": [
        "ensemble_results"
      ],
      "metadata": {
        "id": "1FA1AxdA1u_8",
        "colab": {
          "base_uri": "https://localhost:8080/"
        },
        "outputId": "11768f46-824e-49d2-eddc-e6ad162fa162"
      },
      "execution_count": 28,
      "outputs": [
        {
          "output_type": "execute_result",
          "data": {
            "text/plain": [
              "{'accuracy': 80.18372703412074,\n",
              " 'precision': 0.8108815326824119,\n",
              " 'recall': 0.8018372703412073,\n",
              " 'f1-score': 0.7981002711701818}"
            ]
          },
          "metadata": {},
          "execution_count": 28
        }
      ]
    },
    {
      "cell_type": "code",
      "source": [
        "# Combine model results into a DataFrame\n",
        "all_model_results = pd.DataFrame({\"baseline\": ex_baseline_results,\n",
        "                                  # \"simple_dense\": model_1_results,\n",
        "                                  \"lstm\": ex_model_2_results,\n",
        "                                  \"tf_hub_sentence_encoder\": ex_model_6_results,\n",
        "                                  \"ensemble_results\": ensemble_results})\n",
        "\n",
        "# Convert the accuracy to the same scale as the rest of the results\n",
        "all_model_results.loc[\"accuracy\"] = all_model_results.loc[\"accuracy\"]/100 "
      ],
      "metadata": {
        "id": "oziZEdyhfnqN"
      },
      "execution_count": 29,
      "outputs": []
    },
    {
      "cell_type": "code",
      "source": [
        "print(\"|=== All model results ==|\")\n",
        "print(all_model_results)"
      ],
      "metadata": {
        "id": "Shme-USUfnlB",
        "colab": {
          "base_uri": "https://localhost:8080/"
        },
        "outputId": "a794f261-86e5-4d99-fdce-5d2035f1405a"
      },
      "execution_count": 30,
      "outputs": [
        {
          "output_type": "stream",
          "name": "stdout",
          "text": [
            "|=== All model results ==|\n",
            "           baseline      lstm  tf_hub_sentence_encoder  ensemble_results\n",
            "accuracy   0.792651  0.754593                 0.813648          0.801837\n",
            "precision  0.811139  0.755280                 0.814169          0.810882\n",
            "recall     0.792651  0.754593                 0.813648          0.801837\n",
            "f1-score   0.786219  0.752702                 0.812791          0.798100\n"
          ]
        }
      ]
    },
    {
      "cell_type": "markdown",
      "source": [
        "## Exercise - 6"
      ],
      "metadata": {
        "id": "4pEKGpFmhpt-"
      }
    },
    {
      "cell_type": "markdown",
      "source": [
        "Best model is 'tf_hub_sentence_encoder', then we visualise confusion matrix for it results."
      ],
      "metadata": {
        "id": "frwg54DAvgFi"
      }
    },
    {
      "cell_type": "code",
      "source": [
        "# Visualise confusion matrix for best model results\n",
        "make_confusion_matrix(val_splt_labels, ex_model_6_preds)\n",
        "plt.show()"
      ],
      "metadata": {
        "id": "C3wg4eEEhsdq",
        "colab": {
          "base_uri": "https://localhost:8080/",
          "height": 807
        },
        "outputId": "2c653e49-994c-4c33-fde2-68a410dd707d"
      },
      "execution_count": 31,
      "outputs": [
        {
          "output_type": "display_data",
          "data": {
            "text/plain": [
              "<Figure size 1000x1000 with 2 Axes>"
            ],
            "image/png": "[encoded data removed]"
          },
          "metadata": {}
        }
      ]
    },
    {
      "cell_type": "markdown",
      "source": [
        "## Conclusions\n",
        "As a result, we received the best model with an accuracy level of 81.23%. And her confusion matrix has expected results."
      ],
      "metadata": {
        "id": "DuWTX1-rZPsH"
      }
    }
  ]
}