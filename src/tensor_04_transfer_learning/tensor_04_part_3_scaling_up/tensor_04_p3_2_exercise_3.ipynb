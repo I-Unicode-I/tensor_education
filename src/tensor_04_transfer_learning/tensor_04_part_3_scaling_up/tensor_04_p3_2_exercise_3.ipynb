{
 "nbformat": 4,
 "nbformat_minor": 0,
 "metadata": {
  "colab": {
   "name": "tensor_04_p3_2_exercise_3.ipynb",
   "provenance": [],
   "authorship_tag": "ABX9TyObbwW5bhORTdsrsuOLvey+"
  },
  "kernelspec": {
   "name": "python3",
   "display_name": "Python 3"
  },
  "language_info": {
   "name": "python"
  },
  "accelerator": "GPU",
  "gpuClass": "standard"
 },
 "cells": [
  {
   "cell_type": "code",
   "source": [
    "!nvidia-smi -L"
   ],
   "metadata": {
    "colab": {
     "base_uri": "https://localhost:8080/"
    },
    "id": "O8R8TQj6o4qA",
    "executionInfo": {
     "status": "ok",
     "timestamp": 1658590167021,
     "user_tz": -180,
     "elapsed": 562,
     "user": {
      "displayName": "Mykyta Lytovchenko",
      "userId": "00242426164277080041"
     }
    },
    "outputId": "bd495d62-dcc1-45ec-d4db-ab36e86fefad",
    "pycharm": {
     "name": "#%%\n"
    }
   },
   "execution_count": 1,
   "outputs": [
    {
     "output_type": "stream",
     "name": "stdout",
     "text": [
      "GPU 0: Tesla T4 (UUID: GPU-eaaf37bd-01d7-cbcf-de02-e9ea12b086f2)\n"
     ]
    }
   ]
  },
  {
   "cell_type": "code",
   "source": [
    "!pip install tensorflow"
   ],
   "metadata": {
    "colab": {
     "base_uri": "https://localhost:8080/"
    },
    "id": "qccM6xDXZ-wt",
    "executionInfo": {
     "status": "ok",
     "timestamp": 1658585634268,
     "user_tz": -180,
     "elapsed": 4222,
     "user": {
      "displayName": "Mykyta Lytovchenko",
      "userId": "00242426164277080041"
     }
    },
    "outputId": "13421b99-89d9-4d2f-f8ac-543ff5e71d2b",
    "pycharm": {
     "name": "#%%\n"
    }
   },
   "execution_count": null,
   "outputs": [
    {
     "output_type": "stream",
     "name": "stdout",
     "text": [
      "Looking in indexes: https://pypi.org/simple, https://us-python.pkg.dev/colab-wheels/public/simple/\n",
      "Requirement already satisfied: tensorflow in /usr/local/lib/python3.7/dist-packages (2.8.2+zzzcolab20220719082949)\n",
      "Requirement already satisfied: libclang>=9.0.1 in /usr/local/lib/python3.7/dist-packages (from tensorflow) (14.0.1)\n",
      "Requirement already satisfied: numpy>=1.20 in /usr/local/lib/python3.7/dist-packages (from tensorflow) (1.21.6)\n",
      "Requirement already satisfied: protobuf<3.20,>=3.9.2 in /usr/local/lib/python3.7/dist-packages (from tensorflow) (3.17.3)\n",
      "Requirement already satisfied: wrapt>=1.11.0 in /usr/local/lib/python3.7/dist-packages (from tensorflow) (1.14.1)\n",
      "Requirement already satisfied: absl-py>=0.4.0 in /usr/local/lib/python3.7/dist-packages (from tensorflow) (1.2.0)\n",
      "Requirement already satisfied: tensorflow-io-gcs-filesystem>=0.23.1 in /usr/local/lib/python3.7/dist-packages (from tensorflow) (0.26.0)\n",
      "Requirement already satisfied: typing-extensions>=3.6.6 in /usr/local/lib/python3.7/dist-packages (from tensorflow) (4.1.1)\n",
      "Requirement already satisfied: keras<2.9,>=2.8.0rc0 in /usr/local/lib/python3.7/dist-packages (from tensorflow) (2.8.0)\n",
      "Requirement already satisfied: opt-einsum>=2.3.2 in /usr/local/lib/python3.7/dist-packages (from tensorflow) (3.3.0)\n",
      "Requirement already satisfied: h5py>=2.9.0 in /usr/local/lib/python3.7/dist-packages (from tensorflow) (3.1.0)\n",
      "Requirement already satisfied: flatbuffers>=1.12 in /usr/local/lib/python3.7/dist-packages (from tensorflow) (2.0)\n",
      "Requirement already satisfied: astunparse>=1.6.0 in /usr/local/lib/python3.7/dist-packages (from tensorflow) (1.6.3)\n",
      "Requirement already satisfied: six>=1.12.0 in /usr/local/lib/python3.7/dist-packages (from tensorflow) (1.15.0)\n",
      "Requirement already satisfied: termcolor>=1.1.0 in /usr/local/lib/python3.7/dist-packages (from tensorflow) (1.1.0)\n",
      "Requirement already satisfied: setuptools in /usr/local/lib/python3.7/dist-packages (from tensorflow) (57.4.0)\n",
      "Requirement already satisfied: tensorflow-estimator<2.9,>=2.8 in /usr/local/lib/python3.7/dist-packages (from tensorflow) (2.8.0)\n",
      "Requirement already satisfied: keras-preprocessing>=1.1.1 in /usr/local/lib/python3.7/dist-packages (from tensorflow) (1.1.2)\n",
      "Requirement already satisfied: tensorboard<2.9,>=2.8 in /usr/local/lib/python3.7/dist-packages (from tensorflow) (2.8.0)\n",
      "Requirement already satisfied: grpcio<2.0,>=1.24.3 in /usr/local/lib/python3.7/dist-packages (from tensorflow) (1.47.0)\n",
      "Requirement already satisfied: google-pasta>=0.1.1 in /usr/local/lib/python3.7/dist-packages (from tensorflow) (0.2.0)\n",
      "Requirement already satisfied: gast>=0.2.1 in /usr/local/lib/python3.7/dist-packages (from tensorflow) (0.5.3)\n",
      "Requirement already satisfied: wheel<1.0,>=0.23.0 in /usr/local/lib/python3.7/dist-packages (from astunparse>=1.6.0->tensorflow) (0.37.1)\n",
      "Requirement already satisfied: cached-property in /usr/local/lib/python3.7/dist-packages (from h5py>=2.9.0->tensorflow) (1.5.2)\n",
      "Requirement already satisfied: tensorboard-plugin-wit>=1.6.0 in /usr/local/lib/python3.7/dist-packages (from tensorboard<2.9,>=2.8->tensorflow) (1.8.1)\n",
      "Requirement already satisfied: google-auth-oauthlib<0.5,>=0.4.1 in /usr/local/lib/python3.7/dist-packages (from tensorboard<2.9,>=2.8->tensorflow) (0.4.6)\n",
      "Requirement already satisfied: requests<3,>=2.21.0 in /usr/local/lib/python3.7/dist-packages (from tensorboard<2.9,>=2.8->tensorflow) (2.23.0)\n",
      "Requirement already satisfied: werkzeug>=0.11.15 in /usr/local/lib/python3.7/dist-packages (from tensorboard<2.9,>=2.8->tensorflow) (1.0.1)\n",
      "Requirement already satisfied: tensorboard-data-server<0.7.0,>=0.6.0 in /usr/local/lib/python3.7/dist-packages (from tensorboard<2.9,>=2.8->tensorflow) (0.6.1)\n",
      "Requirement already satisfied: google-auth<3,>=1.6.3 in /usr/local/lib/python3.7/dist-packages (from tensorboard<2.9,>=2.8->tensorflow) (1.35.0)\n",
      "Requirement already satisfied: markdown>=2.6.8 in /usr/local/lib/python3.7/dist-packages (from tensorboard<2.9,>=2.8->tensorflow) (3.4.1)\n",
      "Requirement already satisfied: rsa<5,>=3.1.4 in /usr/local/lib/python3.7/dist-packages (from google-auth<3,>=1.6.3->tensorboard<2.9,>=2.8->tensorflow) (4.8)\n",
      "Requirement already satisfied: cachetools<5.0,>=2.0.0 in /usr/local/lib/python3.7/dist-packages (from google-auth<3,>=1.6.3->tensorboard<2.9,>=2.8->tensorflow) (4.2.4)\n",
      "Requirement already satisfied: pyasn1-modules>=0.2.1 in /usr/local/lib/python3.7/dist-packages (from google-auth<3,>=1.6.3->tensorboard<2.9,>=2.8->tensorflow) (0.2.8)\n",
      "Requirement already satisfied: requests-oauthlib>=0.7.0 in /usr/local/lib/python3.7/dist-packages (from google-auth-oauthlib<0.5,>=0.4.1->tensorboard<2.9,>=2.8->tensorflow) (1.3.1)\n",
      "Requirement already satisfied: importlib-metadata>=4.4 in /usr/local/lib/python3.7/dist-packages (from markdown>=2.6.8->tensorboard<2.9,>=2.8->tensorflow) (4.12.0)\n",
      "Requirement already satisfied: zipp>=0.5 in /usr/local/lib/python3.7/dist-packages (from importlib-metadata>=4.4->markdown>=2.6.8->tensorboard<2.9,>=2.8->tensorflow) (3.8.1)\n",
      "Requirement already satisfied: pyasn1<0.5.0,>=0.4.6 in /usr/local/lib/python3.7/dist-packages (from pyasn1-modules>=0.2.1->google-auth<3,>=1.6.3->tensorboard<2.9,>=2.8->tensorflow) (0.4.8)\n",
      "Requirement already satisfied: idna<3,>=2.5 in /usr/local/lib/python3.7/dist-packages (from requests<3,>=2.21.0->tensorboard<2.9,>=2.8->tensorflow) (2.10)\n",
      "Requirement already satisfied: certifi>=2017.4.17 in /usr/local/lib/python3.7/dist-packages (from requests<3,>=2.21.0->tensorboard<2.9,>=2.8->tensorflow) (2022.6.15)\n",
      "Requirement already satisfied: chardet<4,>=3.0.2 in /usr/local/lib/python3.7/dist-packages (from requests<3,>=2.21.0->tensorboard<2.9,>=2.8->tensorflow) (3.0.4)\n",
      "Requirement already satisfied: urllib3!=1.25.0,!=1.25.1,<1.26,>=1.21.1 in /usr/local/lib/python3.7/dist-packages (from requests<3,>=2.21.0->tensorboard<2.9,>=2.8->tensorflow) (1.24.3)\n",
      "Requirement already satisfied: oauthlib>=3.0.0 in /usr/local/lib/python3.7/dist-packages (from requests-oauthlib>=0.7.0->google-auth-oauthlib<0.5,>=0.4.1->tensorboard<2.9,>=2.8->tensorflow) (3.2.0)\n"
     ]
    }
   ]
  },
  {
   "cell_type": "code",
   "source": [
    "import tensorflow as tf\n",
    "print(\"Num GPUs Available: \", len(tf.config.list_physical_devices('GPU')))\n"
   ],
   "metadata": {
    "colab": {
     "base_uri": "https://localhost:8080/"
    },
    "id": "2QfOSWEGpath",
    "executionInfo": {
     "status": "ok",
     "timestamp": 1658590178420,
     "user_tz": -180,
     "elapsed": 2331,
     "user": {
      "displayName": "Mykyta Lytovchenko",
      "userId": "00242426164277080041"
     }
    },
    "outputId": "df24c13a-3a32-42f6-c2c9-e2f546c8d305",
    "pycharm": {
     "name": "#%%\n"
    }
   },
   "execution_count": 2,
   "outputs": [
    {
     "output_type": "stream",
     "name": "stdout",
     "text": [
      "Num GPUs Available:  1\n"
     ]
    }
   ]
  },
  {
   "cell_type": "code",
   "execution_count": 3,
   "metadata": {
    "id": "QZc9bZi8ZWQC",
    "executionInfo": {
     "status": "ok",
     "timestamp": 1658590195546,
     "user_tz": -180,
     "elapsed": 471,
     "user": {
      "displayName": "Mykyta Lytovchenko",
      "userId": "00242426164277080041"
     }
    },
    "pycharm": {
     "name": "#%%\n"
    }
   },
   "outputs": [],
   "source": [
    "import tensorflow as tf\n",
    "from keras.models import Sequential, load_model\n",
    "from keras import Model\n",
    "from tensorflow.keras import mixed_precision\n",
    "from tensorflow.keras.applications import EfficientNetB0\n",
    "from keras.layers import Dense, Input, GlobalAveragePooling2D\n",
    "from keras.layers import RandomFlip, RandomRotation, RandomZoom, RandomHeight, RandomWidth\n",
    "from tensorflow.keras.layers import Activation\n",
    "from tensorflow.keras.optimizers import Adam\n"
   ]
  },
  {
   "cell_type": "code",
   "source": [
    "# Get helper functions file\n",
    "!wget https://raw.githubusercontent.com/mrdbourke/tensorflow-deep-learning/main/extras/helper_functions.py\n",
    "# Import series of helper functions for the notebook (we've created/used these in previous notebooks)\n",
    "from helper_functions import create_tensorboard_callback, plot_loss_curves, unzip_data, compare_historys"
   ],
   "metadata": {
    "colab": {
     "base_uri": "https://localhost:8080/"
    },
    "id": "lQTz2--TnHxD",
    "executionInfo": {
     "status": "ok",
     "timestamp": 1658590198101,
     "user_tz": -180,
     "elapsed": 553,
     "user": {
      "displayName": "Mykyta Lytovchenko",
      "userId": "00242426164277080041"
     }
    },
    "outputId": "7515d3d2-312d-4a3a-9668-5edb76ba6508",
    "pycharm": {
     "name": "#%%\n"
    }
   },
   "execution_count": 4,
   "outputs": [
    {
     "output_type": "stream",
     "name": "stdout",
     "text": [
      "--2022-07-23 15:29:55--  https://raw.githubusercontent.com/mrdbourke/tensorflow-deep-learning/main/extras/helper_functions.py\n",
      "Resolving raw.githubusercontent.com (raw.githubusercontent.com)... 185.199.108.133, 185.199.109.133, 185.199.111.133, ...\n",
      "Connecting to raw.githubusercontent.com (raw.githubusercontent.com)|185.199.108.133|:443... connected.\n",
      "HTTP request sent, awaiting response... 200 OK\n",
      "Length: 10246 (10K) [text/plain]\n",
      "Saving to: ‘helper_functions.py’\n",
      "\n",
      "helper_functions.py 100%[===================>]  10.01K  --.-KB/s    in 0s      \n",
      "\n",
      "2022-07-23 15:29:55 (114 MB/s) - ‘helper_functions.py’ saved [10246/10246]\n",
      "\n"
     ]
    }
   ]
  },
  {
   "cell_type": "code",
   "source": [
    "# Download data from Google Storage (already preformatted)\n",
    "# !wget https://storage.googleapis.com/ztm_tf_course/food_vision/101_food_classes_10_percent.zip \n",
    "\n",
    "# unzip_data(\"101_food_classes_10_percent.zip\")\n",
    "\n",
    "train_dir = \"101_food_classes_10_percent/train/\"\n",
    "test_dir = \"101_food_classes_10_percent/test/\"\n",
    "\n",
    "IMG_SIZE = (224, 224)\n",
    "train_data = tf.keras.preprocessing.image_dataset_from_directory(train_dir,\n",
    "                                                                                label_mode=\"categorical\",\n",
    "                                                                                image_size=IMG_SIZE)\n",
    "                                                                                \n",
    "test_data = tf.keras.preprocessing.image_dataset_from_directory(test_dir,\n",
    "                                                                label_mode=\"categorical\",\n",
    "                                                                image_size=IMG_SIZE,\n",
    "                                                                shuffle=False)"
   ],
   "metadata": {
    "colab": {
     "base_uri": "https://localhost:8080/"
    },
    "id": "8if3-Hkpmc3b",
    "executionInfo": {
     "status": "ok",
     "timestamp": 1658590241531,
     "user_tz": -180,
     "elapsed": 42474,
     "user": {
      "displayName": "Mykyta Lytovchenko",
      "userId": "00242426164277080041"
     }
    },
    "outputId": "d110ec25-6296-4119-d7c1-3b296bdf5a87",
    "pycharm": {
     "name": "#%%\n"
    }
   },
   "execution_count": 5,
   "outputs": [
    {
     "output_type": "stream",
     "name": "stdout",
     "text": [
      "--2022-07-23 15:29:57--  https://storage.googleapis.com/ztm_tf_course/food_vision/101_food_classes_10_percent.zip\n",
      "Resolving storage.googleapis.com (storage.googleapis.com)... 74.125.68.128, 142.250.4.128, 74.125.24.128, ...\n",
      "Connecting to storage.googleapis.com (storage.googleapis.com)|74.125.68.128|:443... connected.\n",
      "HTTP request sent, awaiting response... 200 OK\n",
      "Length: 1625420029 (1.5G) [application/zip]\n",
      "Saving to: ‘101_food_classes_10_percent.zip’\n",
      "\n",
      "101_food_classes_10 100%[===================>]   1.51G  79.5MB/s    in 21s     \n",
      "\n",
      "2022-07-23 15:30:19 (72.5 MB/s) - ‘101_food_classes_10_percent.zip’ saved [1625420029/1625420029]\n",
      "\n",
      "Found 7575 files belonging to 101 classes.\n",
      "Found 25250 files belonging to 101 classes.\n"
     ]
    }
   ]
  },
  {
   "cell_type": "code",
   "source": [
    "# === Build dataaugmentation layer ===\n",
    "data_augmentation = Sequential([\n",
    "    RandomFlip('horizontal'),  # randomly flip images on horizontal edge\n",
    "    RandomRotation(0.2),  # randomly rotate images by a specific amount\n",
    "    RandomHeight(0.2),  # randomly adjust the height of an image by a specific  amount\n",
    "    RandomWidth(0.2),  # randomly adjust the width of an image by a specific amount\n",
    "    RandomZoom(0.2),  # randomly zoom into an image\n",
    "    # Rescaling(1./255)  # keep for models like ResNet50V2, remove for EfficientNet\n",
    "], name='data_augmentation')\n",
    "\n",
    "base_model = EfficientNetB0(include_top=False)\n",
    "base_model.trainable = False\n",
    "\n",
    "inputs = Input(shape=(224, 224, 3), name='input_layer')\n",
    "x = data_augmentation(inputs)\n",
    "x = base_model(x, training=False)\n",
    "x = GlobalAveragePooling2D(name='global_average_pooling')(x)\n",
    "outputs = Dense(101, activation='softmax', name='dense_output')(x)\n",
    "\n",
    "mixed_model = Model(inputs, outputs)"
   ],
   "metadata": {
    "id": "dXPUg_rWtml8",
    "executionInfo": {
     "status": "ok",
     "timestamp": 1658590834802,
     "user_tz": -180,
     "elapsed": 2623,
     "user": {
      "displayName": "Mykyta Lytovchenko",
      "userId": "00242426164277080041"
     }
    },
    "pycharm": {
     "name": "#%%\n"
    }
   },
   "execution_count": 11,
   "outputs": []
  },
  {
   "cell_type": "code",
   "source": [
    "mixed_model.compile(loss='categorical_crossentropy',\n",
    "                    optimizer=Adam(),\n",
    "                    metrics=['accuracy'])"
   ],
   "metadata": {
    "id": "5DCiNn5XkBHd",
    "executionInfo": {
     "status": "ok",
     "timestamp": 1658590839358,
     "user_tz": -180,
     "elapsed": 1070,
     "user": {
      "displayName": "Mykyta Lytovchenko",
      "userId": "00242426164277080041"
     }
    },
    "pycharm": {
     "name": "#%%\n"
    }
   },
   "execution_count": 12,
   "outputs": []
  },
  {
   "cell_type": "code",
   "source": [
    "mixed_history = mixed_model.fit(train_data,\n",
    "                                epochs=10,\n",
    "                                validation_data=test_data,\n",
    "                                validation_steps=int(0.15 * len(test_data)))"
   ],
   "metadata": {
    "colab": {
     "base_uri": "https://localhost:8080/"
    },
    "id": "kRbmerpnmHbk",
    "executionInfo": {
     "status": "ok",
     "timestamp": 1658591185188,
     "user_tz": -180,
     "elapsed": 342903,
     "user": {
      "displayName": "Mykyta Lytovchenko",
      "userId": "00242426164277080041"
     }
    },
    "outputId": "9b3b410e-6d52-4d19-fa69-9c620b9933a1",
    "pycharm": {
     "name": "#%%\n"
    }
   },
   "execution_count": 13,
   "outputs": [
    {
     "output_type": "stream",
     "name": "stdout",
     "text": [
      "Epoch 1/10\n",
      "237/237 [==============================] - 34s 118ms/step - loss: 3.4691 - accuracy: 0.2502 - val_loss: 2.5603 - val_accuracy: 0.4444\n",
      "Epoch 2/10\n",
      "237/237 [==============================] - 26s 109ms/step - loss: 2.3568 - accuracy: 0.4578 - val_loss: 2.1864 - val_accuracy: 0.4838\n",
      "Epoch 3/10\n",
      "237/237 [==============================] - 26s 107ms/step - loss: 1.9680 - accuracy: 0.5339 - val_loss: 1.9966 - val_accuracy: 0.5095\n",
      "Epoch 4/10\n",
      "237/237 [==============================] - 27s 109ms/step - loss: 1.7557 - accuracy: 0.5753 - val_loss: 1.9307 - val_accuracy: 0.5169\n",
      "Epoch 5/10\n",
      "237/237 [==============================] - 26s 106ms/step - loss: 1.6078 - accuracy: 0.6017 - val_loss: 1.8453 - val_accuracy: 0.5312\n",
      "Epoch 6/10\n",
      "237/237 [==============================] - 25s 105ms/step - loss: 1.4730 - accuracy: 0.6437 - val_loss: 1.8500 - val_accuracy: 0.5191\n",
      "Epoch 7/10\n",
      "237/237 [==============================] - 25s 106ms/step - loss: 1.3728 - accuracy: 0.6620 - val_loss: 1.8105 - val_accuracy: 0.5257\n",
      "Epoch 8/10\n",
      "237/237 [==============================] - 25s 104ms/step - loss: 1.2822 - accuracy: 0.6822 - val_loss: 1.8132 - val_accuracy: 0.5230\n",
      "Epoch 9/10\n",
      "237/237 [==============================] - 25s 105ms/step - loss: 1.2164 - accuracy: 0.6956 - val_loss: 1.7765 - val_accuracy: 0.5278\n",
      "Epoch 10/10\n",
      "237/237 [==============================] - 25s 104ms/step - loss: 1.1595 - accuracy: 0.7123 - val_loss: 1.7923 - val_accuracy: 0.5230\n"
     ]
    }
   ]
  },
  {
   "cell_type": "code",
   "source": [
    "    # === Build Feature-Extraction model with mixed_precision = True ===\n",
    "\n",
    "# === Build dataaugmentation layer ===\n",
    "data_augmentation = Sequential([\n",
    "    RandomFlip('horizontal'),  # randomly flip images on horizontal edge\n",
    "    RandomRotation(0.2),  # randomly rotate images by a specific amount\n",
    "    RandomHeight(0.2),  # randomly adjust the height of an image by a specific  amount\n",
    "    RandomWidth(0.2),  # randomly adjust the width of an image by a specific amount\n",
    "    RandomZoom(0.2),  # randomly zoom into an image\n",
    "    # Rescaling(1./255)  # keep for models like ResNet50V2, remove for EfficientNet\n",
    "], name='data_augmentation')\n",
    "\n",
    "# Check policy in feature extraction model\n",
    "output = Dense(10, activation='softmax', name='output')\n",
    "print(f\"Before outputs dtype: %s\\n\" % output.dtype)\n",
    "print(f\"Before outputs dtype_policy: %s\\n\" % output.dtype_policy)\n",
    "\n",
    "policy = mixed_precision.Policy('mixed_float16')\n",
    "print(mixed_precision.set_global_policy('mixed_float16'))\n",
    "print('Compute dtype: %s' % policy.compute_dtype)\n",
    "print('Variable dtype: %s' % policy.variable_dtype)\n",
    "\n",
    "base_model = EfficientNetB0(include_top=False)\n",
    "base_model.trainable = False\n",
    "\n",
    "inputs = Input(shape=(224, 224, 3), name='input_layer')\n",
    "x = data_augmentation(inputs)\n",
    "x = base_model(x, training=False)\n",
    "x = GlobalAveragePooling2D(name='global_average_pooling')(x)\n",
    "x = Dense(101, name='dense_output')(x)\n",
    "outputs = Activation('softmax', dtype='float32', name='softmax_output')(x)\n",
    "\n",
    "mixed_model = Model(inputs, outputs)\n",
    "\n",
    "print(\"After outputs dtype: %s\" % outputs.dtype)\n",
    "# print(\"After outputs dtype_policy: %s\" % outputs.dtype_policy)\n"
   ],
   "metadata": {
    "colab": {
     "base_uri": "https://localhost:8080/"
    },
    "id": "dC_rhLfsZta9",
    "executionInfo": {
     "status": "ok",
     "timestamp": 1658591187882,
     "user_tz": -180,
     "elapsed": 2701,
     "user": {
      "displayName": "Mykyta Lytovchenko",
      "userId": "00242426164277080041"
     }
    },
    "outputId": "427b4374-9ff4-4c97-cea5-117b37c78204",
    "pycharm": {
     "name": "#%%\n"
    }
   },
   "execution_count": 14,
   "outputs": [
    {
     "output_type": "stream",
     "name": "stdout",
     "text": [
      "Before outputs dtype: float32\n",
      "\n",
      "Before outputs dtype_policy: <Policy \"mixed_float16\">\n",
      "\n",
      "None\n",
      "Compute dtype: float16\n",
      "Variable dtype: float32\n",
      "After outputs dtype: <dtype: 'float32'>\n"
     ]
    }
   ]
  },
  {
   "cell_type": "code",
   "source": [
    "mixed_model.compile(loss='categorical_crossentropy',\n",
    "                    optimizer=Adam(),\n",
    "                    metrics=['accuracy'])"
   ],
   "metadata": {
    "executionInfo": {
     "status": "ok",
     "timestamp": 1658591754708,
     "user_tz": -180,
     "elapsed": 1098,
     "user": {
      "displayName": "Mykyta Lytovchenko",
      "userId": "00242426164277080041"
     }
    },
    "id": "jI_VDBiXuJ3l",
    "pycharm": {
     "name": "#%%\n"
    }
   },
   "execution_count": 15,
   "outputs": []
  },
  {
   "cell_type": "code",
   "source": [
    "mixed_history = mixed_model.fit(train_data,\n",
    "                                epochs=10,\n",
    "                                validation_data=test_data,\n",
    "                                validation_steps=int(0.15 * len(test_data)))"
   ],
   "metadata": {
    "colab": {
     "base_uri": "https://localhost:8080/"
    },
    "outputId": "b7046381-b807-43c8-a918-794fe1043a71",
    "id": "uG5tD90GuSa0",
    "executionInfo": {
     "status": "ok",
     "timestamp": 1658592108735,
     "user_tz": -180,
     "elapsed": 351946,
     "user": {
      "displayName": "Mykyta Lytovchenko",
      "userId": "00242426164277080041"
     }
    },
    "pycharm": {
     "name": "#%%\n"
    }
   },
   "execution_count": 16,
   "outputs": [
    {
     "output_type": "stream",
     "name": "stdout",
     "text": [
      "Epoch 1/10\n",
      "237/237 [==============================] - 32s 110ms/step - loss: 3.4413 - accuracy: 0.2527 - val_loss: 2.5765 - val_accuracy: 0.4354\n",
      "Epoch 2/10\n",
      "237/237 [==============================] - 25s 105ms/step - loss: 2.3280 - accuracy: 0.4639 - val_loss: 2.1277 - val_accuracy: 0.4889\n",
      "Epoch 3/10\n",
      "237/237 [==============================] - 25s 104ms/step - loss: 1.9724 - accuracy: 0.5333 - val_loss: 1.9983 - val_accuracy: 0.5048\n",
      "Epoch 4/10\n",
      "237/237 [==============================] - 25s 104ms/step - loss: 1.7496 - accuracy: 0.5740 - val_loss: 1.9334 - val_accuracy: 0.5103\n",
      "Epoch 5/10\n",
      "237/237 [==============================] - 25s 104ms/step - loss: 1.5973 - accuracy: 0.6069 - val_loss: 1.8469 - val_accuracy: 0.5196\n",
      "Epoch 6/10\n",
      "237/237 [==============================] - 25s 105ms/step - loss: 1.4714 - accuracy: 0.6305 - val_loss: 1.8226 - val_accuracy: 0.5233\n",
      "Epoch 7/10\n",
      "237/237 [==============================] - 25s 104ms/step - loss: 1.3833 - accuracy: 0.6585 - val_loss: 1.8036 - val_accuracy: 0.5315\n",
      "Epoch 8/10\n",
      "237/237 [==============================] - 25s 104ms/step - loss: 1.2901 - accuracy: 0.6768 - val_loss: 1.7999 - val_accuracy: 0.5315\n",
      "Epoch 9/10\n",
      "237/237 [==============================] - 25s 105ms/step - loss: 1.2069 - accuracy: 0.7052 - val_loss: 1.7973 - val_accuracy: 0.5270\n",
      "Epoch 10/10\n",
      "237/237 [==============================] - 25s 103ms/step - loss: 1.1577 - accuracy: 0.7185 - val_loss: 1.7985 - val_accuracy: 0.5257\n"
     ]
    }
   ]
  },
  {
   "cell_type": "markdown",
   "source": [
    "As a result, I can say that:\n",
    "- Does it make the model train little faster, in my case: **Before**(27s 108ms) versus **After**(25s 105ms)\n",
    "- Does it have little effect the accuracy or performance of our model, in my case:\n",
    "**Before**(accuracy-0.7123, val_accuracy-0.5230) versus **After**(accuracy-0.7185, val_accuracy-0.5257)\n",
    "- Despite the fact that the documentation says about 3 times faster learning on **GPU** and 60% on **TPU**, I don't catch any advantages of using mixed_precision training."
   ],
   "metadata": {
    "id": "-VENzNfe0efH",
    "pycharm": {
     "name": "#%% md\n"
    }
   }
  }
 ]
}